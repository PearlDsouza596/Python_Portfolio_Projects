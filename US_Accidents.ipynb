{
 "cells": [
  {
   "cell_type": "markdown",
   "id": "5697a0d3-bae7-406e-ab8f-65936ed813a4",
   "metadata": {},
   "source": [
    "# US Accidents Exploratory Data Analysis "
   ]
  },
  {
   "cell_type": "markdown",
   "id": "8dfd111e-5db4-4e22-a404-14c2cc4dc3a0",
   "metadata": {},
   "source": [
    "This is a countrywide car accident dataset that covers 49 states of the USA\n",
    "\n",
    "This dataset contains data for US accidents from Feb 2016- March 2023\n",
    "\n",
    "The dataset contains approximately 7.7 million accident records\n",
    "\n",
    "We will employ data analysis and visualization techniques to uncover patterns, trends, and important factors associated with accidents\n",
    "        "
   ]
  },
  {
   "cell_type": "code",
   "execution_count": null,
   "id": "9118fb11-b4e8-40fc-b23f-58afd510e72b",
   "metadata": {},
   "outputs": [],
   "source": [
    "pip install opendatasets --upgrade --quiet"
   ]
  },
  {
   "cell_type": "markdown",
   "id": "ac0de54c-7bc5-4461-a546-08976379fef9",
   "metadata": {},
   "source": [
    "\n",
    "#### Libraries used for this project\n"
   ]
  },
  {
   "cell_type": "code",
   "execution_count": null,
   "id": "3a35726a-28f1-4673-a233-4c0cc45abca6",
   "metadata": {},
   "outputs": [],
   "source": [
    "import opendatasets as od\n",
    "import pandas as pd\n",
    "import seaborn as sns\n",
    "sns.set_style('darkgrid')\n",
    "import folium \n",
    "from folium import plugins\n",
    "from folium.plugins import HeatMap\n",
    "from folium.plugins import MarkerCluster\n",
    "import matplotlib.pyplot as plt"
   ]
  },
  {
   "cell_type": "markdown",
   "id": "81a405ae-b6d4-47d6-9ac4-9bc336f5f159",
   "metadata": {},
   "source": [
    "#### Get the data"
   ]
  },
  {
   "cell_type": "code",
   "execution_count": null,
   "id": "5bc0a3eb-7ba5-4a08-80f6-b6873c6fd287",
   "metadata": {},
   "outputs": [],
   "source": [
    "download_url='https://www.kaggle.com/datasets/sobhanmoosavi/us-accidents'\n",
    "od.download(download_url)\n",
    "data_filename='./us-accidents/US_Accidents_March23.csv'\n",
    "df=pd.read_csv(data_filename)"
   ]
  },
  {
   "cell_type": "markdown",
   "id": "e388e7fb-002e-4723-992a-589ce11e946f",
   "metadata": {},
   "source": [
    "\n",
    "#### Understanding our data \n",
    "\n",
    "\n",
    "\n"
   ]
  },
  {
   "cell_type": "code",
   "execution_count": null,
   "id": "1432140e-7859-4cf0-9180-844b728a1cb4",
   "metadata": {},
   "outputs": [],
   "source": [
    "#Display 5 rows from the DataFrame\n",
    "df.head(5)"
   ]
  },
  {
   "cell_type": "code",
   "execution_count": null,
   "id": "86b2268a-de4a-4bae-a5e9-5d4fecaaf28b",
   "metadata": {},
   "outputs": [],
   "source": [
    "# Get the rows and columns\n",
    "rows,columns = df.shape\n",
    "print(f'This dataset contains rows: {rows} and columns :{columns}')"
   ]
  },
  {
   "cell_type": "code",
   "execution_count": null,
   "id": "b5e798d6-e5f2-4e4e-9580-b3f40bb4b7f9",
   "metadata": {
    "scrolled": true
   },
   "outputs": [],
   "source": [
    "# Get the type of each \n",
    "df.info()"
   ]
  },
  {
   "cell_type": "code",
   "execution_count": null,
   "id": "906737bd-24a0-4058-8c7a-b70690695cc9",
   "metadata": {},
   "outputs": [],
   "source": [
    "##get the columns with only numeric datatype to perform statistical analysis\n",
    "df.select_dtypes(include='number').columns.tolist()"
   ]
  },
  {
   "cell_type": "code",
   "execution_count": null,
   "id": "aacea188-7f3d-4dee-95e2-675ba7a24df9",
   "metadata": {},
   "outputs": [],
   "source": [
    "# Check if all the cases are unique\n",
    "unique_ids = df['ID'].nunique()\n",
    "print(f\"Number of unique cases (based on ID): {unique_ids}\")"
   ]
  },
  {
   "cell_type": "markdown",
   "id": "01817c27-2389-45c9-8545-d458ee279058",
   "metadata": {},
   "source": [
    "#### Data Cleaning"
   ]
  },
  {
   "cell_type": "markdown",
   "id": "aa8f1826-6020-4a19-aee9-c788676b2d74",
   "metadata": {},
   "source": [
    "##### Handle Missing Values"
   ]
  },
  {
   "cell_type": "code",
   "execution_count": null,
   "id": "3b3dfdfe-75f2-4c5a-9ad1-dadd48b6d130",
   "metadata": {},
   "outputs": [],
   "source": [
    "#Percentage of missing values per column\n",
    "Missing_percentage=(df.isnull().sum().sort_values(ascending=False) / len(df)) * 100\n",
    "Missing_percentage[Missing_percentage!=0].plot(kind='barh')"
   ]
  },
  {
   "cell_type": "code",
   "execution_count": null,
   "id": "23740a3c-711f-4e5e-85cd-1351d610ad12",
   "metadata": {},
   "outputs": [],
   "source": [
    "#Remove columns with missing values which will not add value to our analysis\n",
    "df.drop(columns=['End_Lat','End_Lng','Precipitation(in)','Street','Wind_Chill(F)','Timezone','Zipcode'], inplace=True)"
   ]
  },
  {
   "cell_type": "code",
   "execution_count": null,
   "id": "292087a8-a759-42ff-9691-494335bcebac",
   "metadata": {},
   "outputs": [],
   "source": [
    "# Check if the data has duplicates\n",
    "df.duplicated().sum()"
   ]
  },
  {
   "cell_type": "markdown",
   "id": "b1a479bf-6d48-4cf1-b560-4e5ca2073437",
   "metadata": {},
   "source": [
    "###### There are no duplicates in our dataset"
   ]
  },
  {
   "cell_type": "code",
   "execution_count": null,
   "id": "f258dfd5-a506-4638-ba60-b7376bbbb1ab",
   "metadata": {},
   "outputs": [],
   "source": [
    "Missing_percentage=df.isnull().sum()"
   ]
  },
  {
   "cell_type": "markdown",
   "id": "a0048390-95f7-4525-8931-918a9a10c8ce",
   "metadata": {},
   "source": [
    "#### Exploratatory analysis"
   ]
  },
  {
   "cell_type": "markdown",
   "id": "6609d7d4-4704-465f-bba5-ecc079ac30b2",
   "metadata": {},
   "source": [
    "    We will consider below columns for our analysis\n",
    "        1. City - Shows the city in address field.\n",
    "        2. Start Time - Shows start time of the accident in local time zone.\n",
    "        3. Start Lat, Start Lng - Shows the latitude and longitude in GPS coordinate of the start point.\n",
    "        4. Temperature - Shows the temperature (in Fahrenheit).\n",
    "        5. Weather Condition - Shows the weather condition (rain, snow, thunderstorm, fog, etc.)"
   ]
  },
  {
   "cell_type": "markdown",
   "id": "e061185d-a265-4df7-aeca-81e1d7669640",
   "metadata": {},
   "source": [
    "##### Plot a horizontal bar graph to analyse top 10 cities with highest accidents"
   ]
  },
  {
   "cell_type": "code",
   "execution_count": null,
   "id": "e9859392-1aca-4ba9-bb05-7dda59e0de75",
   "metadata": {},
   "outputs": [],
   "source": [
    "cities_by_accident=df.City.value_counts()\n",
    "cities_by_accident[:10].plot(kind='bar', title='Accidents by City', ylabel = 'Accidents Count',xlabel='City Name')\n"
   ]
  },
  {
   "cell_type": "markdown",
   "id": "1fcf88c3-ef32-4ddd-87c5-e35929cc96d0",
   "metadata": {},
   "source": [
    "##### Among the top 100 cities in number of accidents, which states do they belong to "
   ]
  },
  {
   "cell_type": "code",
   "execution_count": null,
   "id": "b966e8a8-5fbe-4fe8-8959-81a4eb4610cc",
   "metadata": {},
   "outputs": [],
   "source": [
    "Top100=df.City.value_counts().head(100).index"
   ]
  },
  {
   "cell_type": "code",
   "execution_count": null,
   "id": "c03f8f6f-917e-4836-b599-0073ad160aba",
   "metadata": {},
   "outputs": [],
   "source": [
    "filt=df['City'].isin(Top100)"
   ]
  },
  {
   "cell_type": "code",
   "execution_count": null,
   "id": "a9738c1a-55cc-4f00-ba85-174f5368e02d",
   "metadata": {},
   "outputs": [],
   "source": [
    "Stats=df.loc[filt,['State']].value_counts().head(20).plot(kind='bar')"
   ]
  },
  {
   "cell_type": "markdown",
   "id": "2a5694be-1061-4f7a-95ab-2038c6690084",
   "metadata": {},
   "source": [
    "##### Which 5 states have the highest number of accidents?"
   ]
  },
  {
   "cell_type": "code",
   "execution_count": null,
   "id": "8eb16e8d-b05b-4144-9b67-ee2931c59f89",
   "metadata": {},
   "outputs": [],
   "source": [
    "cities_by_accident.nlargest(5)"
   ]
  },
  {
   "cell_type": "markdown",
   "id": "0cf0c222-68c3-43c1-a2f6-786cf528d7e6",
   "metadata": {},
   "source": [
    "##### Percentage of high and low accident cities"
   ]
  },
  {
   "cell_type": "code",
   "execution_count": null,
   "id": "9f8f9c07-d7bc-4b64-9baa-f8c249893f51",
   "metadata": {},
   "outputs": [],
   "source": [
    "high_accident_city=cities_by_accident[cities_by_accident>=10000]\n",
    "high_accident_city_per=len(high_accident_city)/len(df.City)\n",
    "low_accident_city=cities_by_accident[cities_by_accident<10000]\n",
    "low_accident_city_per=len(low_accident_city)/len(df.City)"
   ]
  },
  {
   "cell_type": "code",
   "execution_count": null,
   "id": "2c7216e8-e075-4597-8252-07633f75e313",
   "metadata": {},
   "outputs": [],
   "source": [
    "high_accident_city_per"
   ]
  },
  {
   "cell_type": "code",
   "execution_count": null,
   "id": "2165c5dc-9ccb-414f-8026-7daa492dc938",
   "metadata": {},
   "outputs": [],
   "source": [
    "low_accident_city_per"
   ]
  },
  {
   "cell_type": "code",
   "execution_count": null,
   "id": "04911b46-a36d-4935-88de-16898c7b411e",
   "metadata": {},
   "outputs": [],
   "source": [
    "Accident=sns.histplot(high_accident_city)\n",
    "Accident.set_xlabel(\"Accident Count\")\n",
    "Accident.set_title(\"Cities with more than 10000 Accidents\")"
   ]
  },
  {
   "cell_type": "markdown",
   "id": "a37f52d2-a544-4319-b92d-16dc54164de9",
   "metadata": {},
   "source": [
    "less tham 5% of cities have more than 10000 yearly accidents"
   ]
  },
  {
   "cell_type": "markdown",
   "id": "f3e63722-7e5a-4694-8ce8-ae8920420835",
   "metadata": {},
   "source": [
    "##### Count of Cities with only one accident "
   ]
  },
  {
   "cell_type": "code",
   "execution_count": null,
   "id": "5624e4f9-a53d-4039-b93c-97a2f8ea32df",
   "metadata": {},
   "outputs": [],
   "source": [
    "##1203 cities with only one accident \n",
    "cities_by_accident[cities_by_accident==1].count()"
   ]
  },
  {
   "cell_type": "code",
   "execution_count": null,
   "id": "0df8be54-05ed-4398-8e5c-ed4968bfac47",
   "metadata": {},
   "outputs": [],
   "source": [
    "df.Start_Time=pd.to_datetime(df.Start_Time,format=\"ISO8601\")\n",
    "Hour=df.Start_Time.dt.hour\n",
    "day_of_week=df.Start_Time.dt.dayofweek\n",
    "month=df.Start_Time.dt.month\n",
    "year=df.Start_Time.dt.year"
   ]
  },
  {
   "cell_type": "markdown",
   "id": "13137098-f5ed-452b-ac94-173ef03ec214",
   "metadata": {},
   "source": [
    "##### What time of the day are accidents most frequent in?"
   ]
  },
  {
   "cell_type": "code",
   "execution_count": null,
   "id": "871b28bb-9740-4cf0-a674-960a59326b10",
   "metadata": {},
   "outputs": [],
   "source": [
    "\n",
    "sns.histplot(Hour, bins=24)\n",
    "plt.xlabel(\"Hour\")\n",
    "plt.ylabel(\"Number of Occurence\")\n",
    "plt.title('Accidents Count By Time of Day')\n"
   ]
  },
  {
   "cell_type": "markdown",
   "id": "218a5098-b96e-47b6-8f85-4bd415d2a7e8",
   "metadata": {},
   "source": [
    "We observe high number of accidents during 6 to 10 am and 3PM to 10pm which could be due to people travelling to and from work. We will further  check if the trend is same for the weekend too"
   ]
  },
  {
   "cell_type": "markdown",
   "id": "a115e7ea-e9f6-40d6-84a2-43707d4ae801",
   "metadata": {},
   "source": [
    "##### Which days of the week have the most accidents"
   ]
  },
  {
   "cell_type": "code",
   "execution_count": null,
   "id": "4e1fa088-efb0-4977-8480-db5a40488e74",
   "metadata": {},
   "outputs": [],
   "source": [
    "sns.histplot(day_of_week, bins=7)\n",
    "plt.xlabel(\"Day of the Week\")\n",
    "plt.title('Accidents by day of the week')\n"
   ]
  },
  {
   "cell_type": "markdown",
   "id": "451ba6b8-f2f6-4fed-b639-c4cd4b542bd9",
   "metadata": {},
   "source": [
    "Weekends have lesser number of accidents in comparison to weekdays, which could be due to non-working days"
   ]
  },
  {
   "cell_type": "markdown",
   "id": "18dc4ace-e22b-44bb-ae14-ae2fd7dab21f",
   "metadata": {},
   "source": [
    "##### What is the trend of accidents year over year (decreasing/increasing?)"
   ]
  },
  {
   "cell_type": "code",
   "execution_count": null,
   "id": "87ed20eb-4cdb-4277-9318-fe14034bc23d",
   "metadata": {},
   "outputs": [],
   "source": [
    "sns.histplot(df.Start_Time.dt.year, bins=8)"
   ]
  },
  {
   "cell_type": "markdown",
   "id": "32f0765f-b8ca-4e40-b9f1-8d306921007a",
   "metadata": {},
   "source": [
    "We see the accidents are increasing exponentially year or year ( This dataset contains only first 3 months of data for 2023)"
   ]
  },
  {
   "cell_type": "markdown",
   "id": "6f53d014-edd4-4339-a92e-7046c000efa5",
   "metadata": {},
   "source": [
    "##### Which months have the most accidents?"
   ]
  },
  {
   "cell_type": "code",
   "execution_count": null,
   "id": "e63cc255-0d0f-4d54-801d-8fa0bc741f9c",
   "metadata": {},
   "outputs": [],
   "source": [
    "sns.histplot(month, bins=12)\n",
    "plt.xlabel(\"Month\")\n",
    "plt.title('Accidents by Month of the year')\n"
   ]
  },
  {
   "cell_type": "markdown",
   "id": "8885e75f-579f-480e-9d13-fd20a13bf7c8",
   "metadata": {},
   "source": [
    "We see a spike in accidents during winter season with December contributing to highest number of accidents - possible due to foggy weather,lippery road conditions, and increased holiday season ( longer travel hours) "
   ]
  },
  {
   "cell_type": "markdown",
   "id": "68793377-ebfc-4f82-8749-c93a6c2901e4",
   "metadata": {},
   "source": [
    "##### what is the trend of accidents over the weekends"
   ]
  },
  {
   "cell_type": "code",
   "execution_count": null,
   "id": "58708856-617f-43f3-ade9-6a132bc614cc",
   "metadata": {},
   "outputs": [],
   "source": [
    "Weekend=df.Start_Time[(day_of_week == 6) | (day_of_week == 5)]\n",
    "sns.histplot(Weekend.dt.hour, bins=24)\n",
    "plt.xlabel(\"Hour\")\n",
    "plt.title('Accident count on Weekends')"
   ]
  },
  {
   "cell_type": "markdown",
   "id": "7f9ff0c1-2343-47fe-a6df-5ce27c9bb032",
   "metadata": {},
   "source": [
    "On weeekends, accidents are high between 10 am to 9 pm unlike weekdays, this could be due to Leisure Travel, less road traffic - drivers are less cautions "
   ]
  },
  {
   "cell_type": "code",
   "execution_count": null,
   "id": "eb17f36d-5210-4ade-95ae-4e42f94bcfc5",
   "metadata": {},
   "outputs": [],
   "source": [
    "df.Weather_Condition.value_counts().sort_values(ascending=False)[:20].plot(kind='bar')\n",
    "plt.xlabel(\"Hour\")\n",
    "plt.title('Weather conditions')"
   ]
  },
  {
   "cell_type": "markdown",
   "id": "c5aab97b-c61f-4145-955c-9ffc574dce28",
   "metadata": {},
   "source": [
    "Most accidents took place when the weather was 'Fair', concluding that the weather is not the major factor for accidents"
   ]
  },
  {
   "cell_type": "code",
   "execution_count": null,
   "id": "3ff4e248-3be8-40e0-81fa-b44dd63ab9b2",
   "metadata": {},
   "outputs": [],
   "source": [
    "df['Severity'].value_counts().plot(kind='pie', autopct='%1.1f%%')\n",
    "plt.title('Accidents by Severity')\n"
   ]
  },
  {
   "cell_type": "markdown",
   "id": "6aae436d-afa5-409a-a1e2-d9be0b198cf0",
   "metadata": {},
   "source": [
    "79.7%  of accidents are of low Severity leading to significantly less traffic"
   ]
  },
  {
   "cell_type": "code",
   "execution_count": null,
   "id": "a5e73249-a111-4a7f-9494-5ba03cf0a93a",
   "metadata": {},
   "outputs": [],
   "source": [
    "sample=df.sample(int(0.001*len(df)))\n",
    "sns.scatterplot(x=df.Start_Lng,y=df.Start_Lat,data=df,size=df.Severity, hue=df.Severity)"
   ]
  },
  {
   "cell_type": "code",
   "execution_count": null,
   "id": "664ef51c-939c-4136-b209-23b345162bf8",
   "metadata": {
    "scrolled": true
   },
   "outputs": [],
   "source": [
    "map=folium.Map(location=[39.8283, -98.5795], width=\"100%\", height=\"100%\")\n",
    "sample=df.sample(int(0.001*len(df)))\n",
    "heat_data =list(zip(list(sample['Start_Lat']),list(sample['Start_Lng'])))\n",
    "HeatMap(heat_data).add_to(map)\n",
    "map"
   ]
  },
  {
   "cell_type": "markdown",
   "id": "f561b847-8f16-4561-b6fb-8b7e00382b94",
   "metadata": {},
   "source": [
    "Coastal regions have account to higher number of accidents"
   ]
  },
  {
   "cell_type": "markdown",
   "id": "7a4ec99d-3d6e-45fd-8382-0f5b3dc9334a",
   "metadata": {},
   "source": [
    "### Summary and Conclusion\n",
    "            Insights:\n",
    "            The number of accidents are increasing exponentially year on year \n",
    "            Less than 5% of cities have more than 1000 yearly accidents.\n",
    "            Coastal region account to higher number of accidents\n",
    "            More accidents takes place on weekdays in comparison to weekends\n",
    "            Accidents are more during winter season\n",
    "            New York, despite being the most populated city has less number of accidents. This needs to be checked\n",
    "            Jan 2016 does not contain complete data which might lead to incorrect analysis\n",
    "            Over 1200 cities have reported just one accident - Needs further analysis\n",
    "            less tham 5% of cities have more than 10000 yearly accidents"
   ]
  },
  {
   "cell_type": "code",
   "execution_count": null,
   "id": "c49668c2-178d-47f0-b6b6-c05c1fb531af",
   "metadata": {},
   "outputs": [],
   "source": []
  }
 ],
 "metadata": {
  "kernelspec": {
   "display_name": "Python 3 (ipykernel)",
   "language": "python",
   "name": "python3"
  },
  "language_info": {
   "codemirror_mode": {
    "name": "ipython",
    "version": 3
   },
   "file_extension": ".py",
   "mimetype": "text/x-python",
   "name": "python",
   "nbconvert_exporter": "python",
   "pygments_lexer": "ipython3",
   "version": "3.13.2"
  }
 },
 "nbformat": 4,
 "nbformat_minor": 5
}
